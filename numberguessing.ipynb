{
  "nbformat": 4,
  "nbformat_minor": 0,
  "metadata": {
    "colab": {
      "provenance": []
    },
    "kernelspec": {
      "name": "python3",
      "display_name": "Python 3"
    },
    "language_info": {
      "name": "python"
    }
  },
  "cells": [
    {
      "cell_type": "markdown",
      "source": [],
      "metadata": {
        "id": "dMym3Mh895IG"
      }
    },
    {
      "cell_type": "code",
      "execution_count": 4,
      "metadata": {
        "colab": {
          "base_uri": "https://localhost:8080/"
        },
        "id": "-q_lRKK-4v4e",
        "outputId": "bae63f5e-ad51-49ea-a045-146562110381"
      },
      "outputs": [
        {
          "name": "stdout",
          "output_type": "stream",
          "text": [
            "welcome to the number guessing game !!!\n",
            "provide the upper limit for the for random variabe20\n"
          ]
        }
      ],
      "source": [
        "import random as r\n",
        "print(\"welcome to the number guessing game !!!\")\n",
        "\n",
        "game_on = True\n",
        "upper_limit = int(input(\"provide the upper limit for the for random variabe\"))\n",
        "comp = r.randint(1,upper_limit)\n",
        "\n"
      ]
    },
    {
      "cell_type": "code",
      "source": [
        "while (game_on == True):\n",
        "\n",
        "    user = int(input(\"enter your guess\"))\n",
        "    if (comp == user):\n",
        "      print(\"congratulations u guessed it correctly\")\n",
        "      key = int(input(\"enter 1 to exit the game or any other key for going on\"))\n",
        "      if key == 1:\n",
        "        game_on = False\n",
        "        break\n",
        "      else:\n",
        "        comp = r.randint(1,upper_limit)\n",
        "\n",
        "    elif comp>user:\n",
        "      print(\"ur guess is lower \")\n",
        "      key = int(input(\"enter 1 to exit the game or any other key for going on\"))\n",
        "      if key == 1:\n",
        "        game_on = False\n",
        "        break\n",
        "      else:\n",
        "        continue\n",
        "    elif user>comp:\n",
        "      print(\"ur guess is higer\")\n",
        "      key = int(input(\"enter 1 to exit the game or any other key for going on\"))\n",
        "      if key == 1:\n",
        "        game_on = False\n",
        "        break\n",
        "      else:\n",
        "        continue\n",
        "\n"
      ],
      "metadata": {
        "colab": {
          "base_uri": "https://localhost:8080/"
        },
        "id": "Pm8ee8Rh5Fj0",
        "outputId": "122e0092-7dcb-4f0c-e81e-263b9e7f97bc"
      },
      "execution_count": null,
      "outputs": [
        {
          "output_type": "stream",
          "name": "stdout",
          "text": [
            "enter your guess10\n",
            "ur guess is higer\n",
            "enter 1 to exit the game or any other key for going on2\n",
            "enter your guess9\n",
            "ur guess is higer\n",
            "enter 1 to exit the game or any other key for going on2\n",
            "enter your guess8\n",
            "congratulations u guessed it correctly\n",
            "enter 1 to exit the game or any other key for going on2\n",
            "enter your guess8\n",
            "ur guess is lower \n",
            "enter 1 to exit the game or any other key for going on10\n",
            "enter your guess10\n",
            "ur guess is lower \n",
            "enter 1 to exit the game or any other key for going on11\n",
            "enter your guess12\n",
            "ur guess is lower \n",
            "enter 1 to exit the game or any other key for going on13\n",
            "enter your guess13\n",
            "ur guess is lower \n",
            "enter 1 to exit the game or any other key for going on2\n",
            "enter your guess14\n",
            "ur guess is lower \n",
            "enter 1 to exit the game or any other key for going on15\n",
            "enter your guess16\n",
            "congratulations u guessed it correctly\n"
          ]
        }
      ]
    },
    {
      "cell_type": "markdown",
      "source": [],
      "metadata": {
        "id": "vb5FT39v9z2d"
      }
    },
    {
      "cell_type": "code",
      "source": [],
      "metadata": {
        "id": "K9eY5jaK8xw1"
      },
      "execution_count": null,
      "outputs": []
    }
  ]
}